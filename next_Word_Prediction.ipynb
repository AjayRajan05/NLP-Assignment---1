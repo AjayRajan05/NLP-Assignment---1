{
 "cells": [
  {
   "cell_type": "code",
   "execution_count": 1,
   "id": "5e6749f5",
   "metadata": {},
   "outputs": [],
   "source": [
    "text = \"\"\"\n",
    "There once was a boy who grew bored while watching over the village sheep. He wanted to make things more exciting. So, he yelled out that he saw a wolf chasing the sheep. All the villagers came running to drive the wolf away. However, they saw no wolf. The boy was amused, but the villagers were not. They told him not to do it again. Shortly after, he repeated this antic. The villagers came running again, only to find that he was lying. Later that day, the boy really sees a wolf sneaking amongst the flock. He jumped up and called out for help. But no one came this time because they thought he was still joking around. At sunset, the villagers looked for the boy. He had not returned with their sheep. They found him crying. He told them that there really was a wolf, and the entire flock was gone. An old man came to comfort him and told him that nobody would believe a liar even when they are being honest.\n",
    "\"\"\""
   ]
  },
  {
   "cell_type": "code",
   "execution_count": 2,
   "id": "43d08403",
   "metadata": {},
   "outputs": [
    {
     "name": "stdout",
     "output_type": "stream",
     "text": [
      "['there', 'once', 'was', 'a', 'boy', 'who', 'grew', 'bored', 'while', 'watching', 'over', 'the', 'village', 'sheep', 'he', 'wanted', 'to', 'make', 'things', 'more', 'exciting', 'so', 'he', 'yelled', 'out', 'that', 'he', 'saw', 'a', 'wolf', 'chasing', 'the', 'sheep', 'all', 'the', 'villagers', 'came', 'running', 'to', 'drive', 'the', 'wolf', 'away', 'however', 'they', 'saw', 'no', 'wolf', 'the', 'boy', 'was', 'amused', 'but', 'the', 'villagers', 'were', 'not', 'they', 'told', 'him', 'not', 'to', 'do', 'it', 'again', 'shortly', 'after', 'he', 'repeated', 'this', 'antic', 'the', 'villagers', 'came', 'running', 'again', 'only', 'to', 'find', 'that', 'he', 'was', 'lying', 'later', 'that', 'day', 'the', 'boy', 'really', 'sees', 'a', 'wolf', 'sneaking', 'amongst', 'the', 'flock', 'he', 'jumped', 'up', 'and', 'called', 'out', 'for', 'help', 'but', 'no', 'one', 'came', 'this', 'time', 'because', 'they', 'thought', 'he', 'was', 'still', 'joking', 'around', 'at', 'sunset', 'the', 'villagers', 'looked', 'for', 'the', 'boy', 'he', 'had', 'not', 'returned', 'with', 'their', 'sheep', 'they', 'found', 'him', 'crying', 'he', 'told', 'them', 'that', 'there', 'really', 'was', 'a', 'wolf', 'and', 'the', 'entire', 'flock', 'was', 'gone', 'an', 'old', 'man', 'came', 'to', 'comfort', 'him', 'and', 'told', 'him', 'that', 'nobody', 'would', 'believe', 'a', 'liar', 'even', 'when', 'they', 'are', 'being', 'honest']\n"
     ]
    },
    {
     "name": "stderr",
     "output_type": "stream",
     "text": [
      "[nltk_data] Downloading package punkt to\n",
      "[nltk_data]     C:\\Users\\amudh\\AppData\\Roaming\\nltk_data...\n",
      "[nltk_data]   Package punkt is already up-to-date!\n"
     ]
    }
   ],
   "source": [
    "import nltk\n",
    "nltk.download('punkt')\n",
    "\n",
    "words = nltk.word_tokenize(text)\n",
    "\n",
    "words = [word.lower() for word in words if word.isalnum()]\n",
    "\n",
    "print(words)"
   ]
  },
  {
   "cell_type": "code",
   "execution_count": 3,
   "id": "3159b08e",
   "metadata": {},
   "outputs": [],
   "source": [
    "from nltk.util import ngrams\n",
    "from collections import defaultdict\n",
    "\n",
    "n = 2\n",
    "\n",
    "ngrams_list = list(ngrams(words, n))\n",
    "\n",
    "ngram_freq = defaultdict(int)\n",
    "\n",
    "for ngram in ngrams_list:\n",
    "    ngram_freq[ngram] += 1"
   ]
  },
  {
   "cell_type": "code",
   "execution_count": 4,
   "id": "d9c3d010",
   "metadata": {},
   "outputs": [],
   "source": [
    "def predict_next_word(prefix):\n",
    "    # Filter N-grams that start with the given prefix\n",
    "    matching_ngrams = [(ngram, freq) for ngram, freq in ngram_freq.items() if ngram[:-1] == prefix]\n",
    "\n",
    "    if not matching_ngrams:\n",
    "        return \"No prediction available.\"\n",
    "\n",
    "    # Sort N-grams by frequency in descending order\n",
    "    sorted_ngrams = sorted(matching_ngrams, key=lambda x: x[1], reverse=True)\n",
    "\n",
    "    # Select the N-gram with the highest frequency as the prediction\n",
    "    prediction = sorted_ngrams[0][0][-1]\n",
    "\n",
    "    return prediction"
   ]
  },
  {
   "cell_type": "code",
   "execution_count": null,
   "id": "5655c137",
   "metadata": {},
   "outputs": [],
   "source": [
    "user_input = input(\"Enter a prefix for next-word prediction: \").lower().split()\n",
    "if len(user_input) != n - 1:\n",
    "    print(\"Please enter a valid prefix.\")\n",
    "else:\n",
    "    prefix = tuple(user_input)\n",
    "    prediction = predict_next_word(prefix)\n",
    "    print(f\"Next word prediction: {prediction}\")"
   ]
  }
 ],
 "metadata": {
  "kernelspec": {
   "display_name": "Python 3 (ipykernel)",
   "language": "python",
   "name": "python3"
  },
  "language_info": {
   "codemirror_mode": {
    "name": "ipython",
    "version": 3
   },
   "file_extension": ".py",
   "mimetype": "text/x-python",
   "name": "python",
   "nbconvert_exporter": "python",
   "pygments_lexer": "ipython3",
   "version": "3.11.5"
  }
 },
 "nbformat": 4,
 "nbformat_minor": 5
}
